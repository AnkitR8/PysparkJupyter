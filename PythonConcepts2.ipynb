{
 "cells": [
  {
   "cell_type": "code",
   "execution_count": 12,
   "metadata": {},
   "outputs": [
    {
     "name": "stdout",
     "output_type": "stream",
     "text": [
      "Circumference=7.5398223686155035\n",
      "Area=4.523893421169302\n"
     ]
    }
   ],
   "source": [
    "import math;\n",
    "radius = 1.2\n",
    "Circumference = 2*math.pi*radius\n",
    "print(\"Circumference=\"+ str(Circumference))\n",
    "\n",
    "Area = math.pi*radius**2\n",
    "print(\"Area=\"+ str(Area))"
   ]
  },
  {
   "cell_type": "code",
   "execution_count": null,
   "metadata": {},
   "outputs": [],
   "source": []
  }
 ],
 "metadata": {
  "kernelspec": {
   "display_name": "Python 3",
   "language": "python",
   "name": "python3"
  },
  "language_info": {
   "codemirror_mode": {
    "name": "ipython",
    "version": 3
   },
   "file_extension": ".py",
   "mimetype": "text/x-python",
   "name": "python",
   "nbconvert_exporter": "python",
   "pygments_lexer": "ipython3",
   "version": "3.6.4"
  }
 },
 "nbformat": 4,
 "nbformat_minor": 2
}
